{
 "metadata": {
  "name": ""
 },
 "nbformat": 3,
 "nbformat_minor": 0,
 "worksheets": [
  {
   "cells": [
    {
     "cell_type": "code",
     "collapsed": false,
     "input": [
      "import pandas as pd\n",
      "from StringIO import StringIO\n",
      "from boto.s3.connection import OrdinaryCallingFormat\n",
      "import boto\n",
      "import numpy as np\n",
      "import matplotlib.pyplot as plt"
     ],
     "language": "python",
     "metadata": {},
     "outputs": [],
     "prompt_number": 102
    },
    {
     "cell_type": "code",
     "collapsed": false,
     "input": [
      "%load credentials.py"
     ],
     "language": "python",
     "metadata": {},
     "outputs": [],
     "prompt_number": 7
    },
    {
     "cell_type": "code",
     "collapsed": false,
     "input": [
      "# http://stackoverflow.com/questions/19088584/connect-to-bucket-having-uppercase-letter\n",
      "\n",
      "conn = boto.connect_s3(credentials[\"key\"], credentials[\"secret\"],calling_format=OrdinaryCallingFormat())\n",
      "b = conn.get_bucket('distilTryouts')"
     ],
     "language": "python",
     "metadata": {},
     "outputs": [],
     "prompt_number": 10
    },
    {
     "cell_type": "code",
     "collapsed": false,
     "input": [
      "ddos_days = [\"20131220\",\"20131221\",\"20131222\"]  # Days which we know there was a DDOS attack. Also [\"20131229\",\"20131230\",\"20131231\"]\n",
      "data_files = []\n",
      "for i,ddos_day in enumerate(ddos_days):\n",
      "    folder = b.list(prefix = ddos_day + \"/search_input/\")\n",
      "    data_files.append([key.name for key in folder])\n",
      "    \n",
      "print \"Found \" + str(len(data_files)) + \" files to parse\""
     ],
     "language": "python",
     "metadata": {},
     "outputs": [
      {
       "output_type": "stream",
       "stream": "stdout",
       "text": [
        "Found 3 files to parse\n"
       ]
      }
     ],
     "prompt_number": 312
    },
    {
     "cell_type": "code",
     "collapsed": false,
     "input": [
      "data_files[0][2]"
     ],
     "language": "python",
     "metadata": {},
     "outputs": [
      {
       "metadata": {},
       "output_type": "pyout",
       "prompt_number": 314,
       "text": [
        "u'20131220/search_input/000002'"
       ]
      }
     ],
     "prompt_number": 314
    },
    {
     "cell_type": "code",
     "collapsed": false,
     "input": [
      "%load computeCountryCounts.py"
     ],
     "language": "python",
     "metadata": {},
     "outputs": [],
     "prompt_number": 395
    },
    {
     "cell_type": "code",
     "collapsed": false,
     "input": [
      "# This function can run in parallel to parse the data and return the Country/Hour violations\n",
      "def computeCountryCounts(credentials, bucket_name, location):\n",
      "\t# Open S3 bucket at location and load data. Return the total lines\n",
      "\t# the total count (sum of \"total\" column), and the histogram of country\n",
      "\t# totals as a dictionary. e.g. {'US':100,'DE':10,...}\n",
      "\n",
      "\t# If the bucket doesn't exist or if the credentials are wrong, return Null\n",
      "\n",
      "\t# Connect via Boto\n",
      "\t# Open bucket\n",
      "\t# Import buck into Pandas dataframe\n",
      "\n",
      "\t# Run summary statistics\n",
      "\n",
      "\timport boto\n",
      "\tfrom boto.s3.connection import OrdinaryCallingFormat\n",
      "\tfrom StringIO import StringIO\n",
      "\timport pandas as pd\n",
      "\n",
      "\tconn = boto.connect_s3(credentials['key'], credentials['secret'],calling_format=OrdinaryCallingFormat())\n",
      "\n",
      "\tbucket = conn.get_bucket(bucket_name)\n",
      "\n",
      "\tdata_key = bucket.get_key(location)\n",
      "\tfilepath_or_buffer = StringIO(data_key.get_contents_as_string())\n",
      "\td = pd.read_csv(filepath_or_buffer,\"\u0001\", quotechar=\"\u0001\",header=None,names=[\"prim_id\",\"id\",\"distil_domain_id\",\"user_agent\",\"ref\",\"ah\",\"country\",\"violations\",\"total\"])\n",
      "\n",
      "\tbot_idx = (d[\"violations\"] > 0) & (d[\"violations\"] < 16384) \n",
      "\tN_violations = bot_idx.sum()\n",
      "\t\n",
      "\tif N_violations > 0:\n",
      "\t\thour_country_group = d[bot_idx].groupby([\"country\",\"ah\"])\t\t# Group data by country and hour\n",
      "\t\ttotal_lines = N_violations       \t\t\t\t\t\t\t\t# Total violations\n",
      "\t\ttotal_count = d[\"total\"][bot_idx].sum()\t\t\t\t\t\t\t# Violation counts\n",
      "\t\tcountry_hist = hour_country_group[\"total\"].sum().to_dict()\t\t# Country/Hour violations\n",
      "\telse:\n",
      "\t\ttotal_lines = 0\n",
      "\t\ttotal_count = 0\n",
      "\t\tcountry_hist = {}\n",
      "\t\t\n",
      "\treturn total_lines, total_count, country_hist"
     ],
     "language": "python",
     "metadata": {},
     "outputs": [],
     "prompt_number": 396
    },
    {
     "cell_type": "code",
     "collapsed": false,
     "input": [
      "data_key = b.get_key(data_files[0])"
     ],
     "language": "python",
     "metadata": {},
     "outputs": [],
     "prompt_number": 37
    },
    {
     "cell_type": "code",
     "collapsed": false,
     "input": [
      "filepath_or_buffer = StringIO(data_key.get_contents_as_string())\n",
      "# quotechart is the same as the delimitor because the files have single double quotes floating about \" killing things\n",
      "d = pd.read_csv(filepath_or_buffer,\"\u0001\", quotechar=\"\u0001\",header=None,error_bad_lines=False,names=[\"prim_id\",\"id\",\"distil_domain_id\",\"user_agent\",\"ref\",\"ah\",\"country\",\"violations\",\"total\"])"
     ],
     "language": "python",
     "metadata": {},
     "outputs": [],
     "prompt_number": 55
    },
    {
     "cell_type": "code",
     "collapsed": false,
     "input": [
      "bot_idx = (d[\"violations\"] > 0) & (d[\"violations\"] < 16384) \n",
      "assert bot_idx.sum() > 0, 'Dataset has no violations'"
     ],
     "language": "python",
     "metadata": {},
     "outputs": [],
     "prompt_number": 56
    },
    {
     "cell_type": "code",
     "collapsed": false,
     "input": [
      "hour_country_group = d[bot_idx].groupby([\"country\",\"ah\"])\t\t# Group data by country and hour\n",
      "total_lines = bot_idx.sum()      \t\t\t\t\t\t\t\t# Total violations\n",
      "total_count = d[\"total\"][bot_idx].sum()\t\t\t\t\t\t\t# Violation counts\n",
      "country_hist = hour_country_group[\"total\"].sum().to_dict()\t\t# Country/Hour violations"
     ],
     "language": "python",
     "metadata": {},
     "outputs": [],
     "prompt_number": 57
    },
    {
     "cell_type": "code",
     "collapsed": false,
     "input": [
      "print total_lines\n",
      "print total_count\n",
      "#print country_hist"
     ],
     "language": "python",
     "metadata": {},
     "outputs": [
      {
       "output_type": "stream",
       "stream": "stdout",
       "text": [
        "6043\n",
        "1017018.0\n"
       ]
      }
     ],
     "prompt_number": 74
    },
    {
     "cell_type": "code",
     "collapsed": false,
     "input": [
      "total_lines,total_count,country_hist = computeCountryCounts(credentials,\"distilTryouts\",data_files[0][10])"
     ],
     "language": "python",
     "metadata": {},
     "outputs": [],
     "prompt_number": 332
    },
    {
     "cell_type": "markdown",
     "metadata": {},
     "source": [
      "The `for` loop below needs to run for each new set of data that returns from the `computeCountryCounts` function. This segments the output into one matrix that tracks the violation counts per hour for each country that appears. If we aggregate multiple days then this wil need to be modified to accomodate hour multiplier (e.g. ranges that go from 0 to multiples of 24)."
     ]
    },
    {
     "cell_type": "code",
     "collapsed": false,
     "input": [
      "# Create a matrix of Country vs. Hour of day \n",
      "# Iterate through each of the dictionary keys and pull out country and time and create an array of totals\n",
      "count_matrix = {}\n",
      "NUM_HOURS = 24\n",
      "for key,total in zip(country_hist.keys(),country_hist.values()):\n",
      "        country = key[0].lower()\n",
      "        hour = int(key[1])\n",
      "        #print country\n",
      "        #print hour\n",
      "        #print total\n",
      "        if country in count_matrix:\n",
      "            # Increment the Country/House slot with new data\n",
      "            count_matrix[country][hour] += total\n",
      "        else:\n",
      "            # Otherwise create an empty array of 24 values for this country. Set the \"hour\" total to \"total\"\n",
      "            count_matrix[country] = np.zeros(NUM_HOURS)\n",
      "            count_matrix[country][hour] = total"
     ],
     "language": "python",
     "metadata": {},
     "outputs": [],
     "prompt_number": 316
    },
    {
     "cell_type": "code",
     "collapsed": false,
     "input": [
      "count_matrix = reduceSummary(count_matrix,country_hist,24)"
     ],
     "language": "python",
     "metadata": {},
     "outputs": [],
     "prompt_number": 334
    },
    {
     "cell_type": "heading",
     "level": 2,
     "metadata": {},
     "source": [
      "Iterate over all the data in 1 day and compute the summary:"
     ]
    },
    {
     "cell_type": "code",
     "collapsed": false,
     "input": [
      "def reduceSummary(count_matrix,country_hist,day_integer,NUM_HOURS):\n",
      "    \n",
      "    # count_matrix - dictionary of country:counts where counts is a np array of NUM_HOURS\n",
      "    # country_hist - output of the mapper (country, hour totals)\n",
      "    # day_integer - multiplier for the hours\n",
      "    # NUM_HOURS - total number of hours\n",
      "    \n",
      "    for key,total in zip(country_hist.keys(),country_hist.values()):\n",
      "        country = key[0].lower()\n",
      "        hour = int(key[1]) + day_integer*24\n",
      "        #print country\n",
      "        #print hour\n",
      "        #print total\n",
      "        if country in count_matrix:\n",
      "            # Increment the Country/House slot with new data\n",
      "            count_matrix[country][hour] += total\n",
      "        else:\n",
      "            # Otherwise create an empty array of 24 values for this country. Set the \"hour\" total to \"total\"\n",
      "            count_matrix[country] = np.zeros(NUM_HOURS)\n",
      "            count_matrix[country][hour] = total\n",
      "            \n",
      "    return count_matrix"
     ],
     "language": "python",
     "metadata": {},
     "outputs": [],
     "prompt_number": 348
    },
    {
     "cell_type": "code",
     "collapsed": false,
     "input": [
      "NUM_HOURS = 24*len(data_files)\n",
      "count_matrix = {}\n",
      "\n",
      "for d,day_list in enumerate(data_files):\n",
      "    print \"Working on day \" + str(d)\n",
      "    for file_name in day_list:\n",
      "        print file_name\n",
      "        total_lines,total_count,country_hist = computeCountryCounts(credentials,\"distilTryouts\",file_name)\n",
      "        \n",
      "        count_matrix = reduceSummary(count_matrix,country_hist,d,NUM_HOURS)"
     ],
     "language": "python",
     "metadata": {},
     "outputs": [
      {
       "output_type": "stream",
       "stream": "stdout",
       "text": [
        "Working on day 0\n",
        "20131220/search_input/000000\n",
        "20131220/search_input/000001"
       ]
      },
      {
       "output_type": "stream",
       "stream": "stdout",
       "text": [
        "\n",
        "20131220/search_input/000002"
       ]
      },
      {
       "output_type": "stream",
       "stream": "stdout",
       "text": [
        "\n",
        "20131220/search_input/000003"
       ]
      },
      {
       "output_type": "stream",
       "stream": "stdout",
       "text": [
        "\n",
        "20131220/search_input/000004"
       ]
      },
      {
       "output_type": "stream",
       "stream": "stdout",
       "text": [
        "\n",
        "20131220/search_input/000005"
       ]
      },
      {
       "output_type": "stream",
       "stream": "stdout",
       "text": [
        "\n",
        "20131220/search_input/000006"
       ]
      },
      {
       "output_type": "stream",
       "stream": "stdout",
       "text": [
        "\n",
        "20131220/search_input/000007"
       ]
      },
      {
       "output_type": "stream",
       "stream": "stdout",
       "text": [
        "\n",
        "20131220/search_input/000008"
       ]
      },
      {
       "output_type": "stream",
       "stream": "stdout",
       "text": [
        "\n",
        "20131220/search_input/000009"
       ]
      },
      {
       "output_type": "stream",
       "stream": "stdout",
       "text": [
        "\n",
        "20131220/search_input/000010"
       ]
      },
      {
       "output_type": "stream",
       "stream": "stdout",
       "text": [
        "\n",
        "20131220/search_input/000011"
       ]
      },
      {
       "output_type": "stream",
       "stream": "stdout",
       "text": [
        "\n",
        "20131220/search_input/000012"
       ]
      },
      {
       "output_type": "stream",
       "stream": "stdout",
       "text": [
        "\n",
        "20131220/search_input/000013"
       ]
      },
      {
       "output_type": "stream",
       "stream": "stdout",
       "text": [
        "\n",
        "20131220/search_input/000014"
       ]
      },
      {
       "output_type": "stream",
       "stream": "stdout",
       "text": [
        "\n",
        "20131220/search_input/000015"
       ]
      },
      {
       "output_type": "stream",
       "stream": "stdout",
       "text": [
        "\n",
        "20131220/search_input/000016"
       ]
      },
      {
       "output_type": "stream",
       "stream": "stdout",
       "text": [
        "\n",
        "20131220/search_input/000017"
       ]
      },
      {
       "output_type": "stream",
       "stream": "stdout",
       "text": [
        "\n",
        "20131220/search_input/000018"
       ]
      },
      {
       "output_type": "stream",
       "stream": "stdout",
       "text": [
        "\n",
        "20131220/search_input/000019"
       ]
      },
      {
       "output_type": "stream",
       "stream": "stdout",
       "text": [
        "\n",
        "20131220/search_input/000020"
       ]
      },
      {
       "output_type": "stream",
       "stream": "stdout",
       "text": [
        "\n",
        "20131220/search_input/000021"
       ]
      },
      {
       "output_type": "stream",
       "stream": "stdout",
       "text": [
        "\n",
        "20131220/search_input/000022"
       ]
      },
      {
       "output_type": "stream",
       "stream": "stdout",
       "text": [
        "\n",
        "20131220/search_input/000023"
       ]
      },
      {
       "output_type": "stream",
       "stream": "stdout",
       "text": [
        "\n",
        "20131220/search_input/000024"
       ]
      },
      {
       "output_type": "stream",
       "stream": "stdout",
       "text": [
        "\n",
        "20131220/search_input/000025"
       ]
      },
      {
       "output_type": "stream",
       "stream": "stdout",
       "text": [
        "\n",
        "20131220/search_input/000026"
       ]
      },
      {
       "output_type": "stream",
       "stream": "stdout",
       "text": [
        "\n",
        "20131220/search_input/000027"
       ]
      },
      {
       "output_type": "stream",
       "stream": "stdout",
       "text": [
        "\n",
        "20131220/search_input/000028"
       ]
      },
      {
       "output_type": "stream",
       "stream": "stdout",
       "text": [
        "\n",
        "20131220/search_input/000029"
       ]
      },
      {
       "output_type": "stream",
       "stream": "stdout",
       "text": [
        "\n",
        "20131220/search_input/000030"
       ]
      },
      {
       "output_type": "stream",
       "stream": "stdout",
       "text": [
        "\n",
        "20131220/search_input/000031"
       ]
      },
      {
       "output_type": "stream",
       "stream": "stdout",
       "text": [
        "\n",
        "20131220/search_input/000032"
       ]
      },
      {
       "output_type": "stream",
       "stream": "stdout",
       "text": [
        "\n",
        "20131220/search_input/000033"
       ]
      },
      {
       "output_type": "stream",
       "stream": "stdout",
       "text": [
        "\n",
        "20131220/search_input/000034"
       ]
      },
      {
       "output_type": "stream",
       "stream": "stdout",
       "text": [
        "\n",
        "20131220/search_input/000035"
       ]
      },
      {
       "output_type": "stream",
       "stream": "stdout",
       "text": [
        "\n",
        "20131220/search_input/000036"
       ]
      },
      {
       "output_type": "stream",
       "stream": "stdout",
       "text": [
        "\n",
        "20131220/search_input/000037"
       ]
      },
      {
       "output_type": "stream",
       "stream": "stdout",
       "text": [
        "\n",
        "20131220/search_input/000038"
       ]
      },
      {
       "output_type": "stream",
       "stream": "stdout",
       "text": [
        "\n",
        "20131220/search_input/000039"
       ]
      },
      {
       "output_type": "stream",
       "stream": "stdout",
       "text": [
        "\n",
        "20131220/search_input/000040"
       ]
      },
      {
       "output_type": "stream",
       "stream": "stdout",
       "text": [
        "\n",
        "20131220/search_input/000041"
       ]
      },
      {
       "output_type": "stream",
       "stream": "stdout",
       "text": [
        "\n",
        "20131220/search_input/000042"
       ]
      },
      {
       "output_type": "stream",
       "stream": "stdout",
       "text": [
        "\n",
        "20131220/search_input/000043"
       ]
      },
      {
       "output_type": "stream",
       "stream": "stdout",
       "text": [
        "\n",
        "20131220/search_input/000044"
       ]
      },
      {
       "output_type": "stream",
       "stream": "stdout",
       "text": [
        "\n",
        "20131220/search_input/000045"
       ]
      },
      {
       "output_type": "stream",
       "stream": "stdout",
       "text": [
        "\n",
        "20131220/search_input/000046"
       ]
      },
      {
       "output_type": "stream",
       "stream": "stdout",
       "text": [
        "\n",
        "20131220/search_input/000047"
       ]
      },
      {
       "output_type": "stream",
       "stream": "stdout",
       "text": [
        "\n",
        "20131220/search_input/000048"
       ]
      },
      {
       "output_type": "stream",
       "stream": "stdout",
       "text": [
        "\n",
        "20131220/search_input/000049"
       ]
      },
      {
       "output_type": "stream",
       "stream": "stdout",
       "text": [
        "\n",
        "20131220/search_input/000050"
       ]
      },
      {
       "output_type": "stream",
       "stream": "stdout",
       "text": [
        "\n",
        "20131220/search_input/000051"
       ]
      },
      {
       "output_type": "stream",
       "stream": "stdout",
       "text": [
        "\n",
        "20131220/search_input/000052"
       ]
      },
      {
       "output_type": "stream",
       "stream": "stdout",
       "text": [
        "\n",
        "20131220/search_input/000053"
       ]
      },
      {
       "output_type": "stream",
       "stream": "stdout",
       "text": [
        "\n",
        "20131220/search_input/000054"
       ]
      },
      {
       "output_type": "stream",
       "stream": "stdout",
       "text": [
        "\n",
        "20131220/search_input/000055"
       ]
      },
      {
       "output_type": "stream",
       "stream": "stdout",
       "text": [
        "\n",
        "20131220/search_input/000056"
       ]
      },
      {
       "output_type": "stream",
       "stream": "stdout",
       "text": [
        "\n",
        "20131220/search_input/000057"
       ]
      },
      {
       "output_type": "stream",
       "stream": "stdout",
       "text": [
        "\n",
        "20131220/search_input/000058"
       ]
      },
      {
       "output_type": "stream",
       "stream": "stdout",
       "text": [
        "\n",
        "20131220/search_input/000059"
       ]
      },
      {
       "output_type": "stream",
       "stream": "stdout",
       "text": [
        "\n",
        "20131220/search_input/000060"
       ]
      },
      {
       "output_type": "stream",
       "stream": "stdout",
       "text": [
        "\n",
        "20131220/search_input/000061"
       ]
      },
      {
       "output_type": "stream",
       "stream": "stdout",
       "text": [
        "\n",
        "20131220/search_input/000062"
       ]
      },
      {
       "output_type": "stream",
       "stream": "stdout",
       "text": [
        "\n",
        "20131220/search_input/000063"
       ]
      },
      {
       "output_type": "stream",
       "stream": "stdout",
       "text": [
        "\n",
        "20131220/search_input/000064"
       ]
      },
      {
       "output_type": "stream",
       "stream": "stdout",
       "text": [
        "\n",
        "20131220/search_input/000065"
       ]
      },
      {
       "output_type": "stream",
       "stream": "stdout",
       "text": [
        "\n",
        "20131220/search_input/000066"
       ]
      },
      {
       "output_type": "stream",
       "stream": "stdout",
       "text": [
        "\n",
        "20131220/search_input/000067"
       ]
      },
      {
       "output_type": "stream",
       "stream": "stdout",
       "text": [
        "\n",
        "20131220/search_input/000068"
       ]
      },
      {
       "output_type": "stream",
       "stream": "stdout",
       "text": [
        "\n",
        "20131220/search_input/000069"
       ]
      },
      {
       "output_type": "stream",
       "stream": "stdout",
       "text": [
        "\n",
        "20131220/search_input/000070"
       ]
      },
      {
       "output_type": "stream",
       "stream": "stdout",
       "text": [
        "\n",
        "20131220/search_input/000071"
       ]
      },
      {
       "output_type": "stream",
       "stream": "stdout",
       "text": [
        "\n",
        "20131220/search_input/000072"
       ]
      },
      {
       "output_type": "stream",
       "stream": "stdout",
       "text": [
        "\n",
        "Working on day 1"
       ]
      },
      {
       "output_type": "stream",
       "stream": "stdout",
       "text": [
        "\n",
        "20131221/search_input/000000\n",
        "20131221/search_input/000001"
       ]
      },
      {
       "output_type": "stream",
       "stream": "stdout",
       "text": [
        "\n",
        "20131221/search_input/000002"
       ]
      },
      {
       "output_type": "stream",
       "stream": "stdout",
       "text": [
        "\n",
        "20131221/search_input/000003"
       ]
      },
      {
       "output_type": "stream",
       "stream": "stdout",
       "text": [
        "\n",
        "20131221/search_input/000004"
       ]
      },
      {
       "output_type": "stream",
       "stream": "stdout",
       "text": [
        "\n",
        "20131221/search_input/000005"
       ]
      },
      {
       "output_type": "stream",
       "stream": "stdout",
       "text": [
        "\n",
        "20131221/search_input/000006"
       ]
      },
      {
       "output_type": "stream",
       "stream": "stdout",
       "text": [
        "\n",
        "20131221/search_input/000007"
       ]
      },
      {
       "output_type": "stream",
       "stream": "stdout",
       "text": [
        "\n",
        "20131221/search_input/000008"
       ]
      },
      {
       "output_type": "stream",
       "stream": "stdout",
       "text": [
        "\n",
        "20131221/search_input/000009"
       ]
      },
      {
       "output_type": "stream",
       "stream": "stdout",
       "text": [
        "\n",
        "20131221/search_input/000010"
       ]
      },
      {
       "output_type": "stream",
       "stream": "stdout",
       "text": [
        "\n",
        "20131221/search_input/000011"
       ]
      },
      {
       "output_type": "stream",
       "stream": "stdout",
       "text": [
        "\n",
        "20131221/search_input/000012"
       ]
      },
      {
       "output_type": "stream",
       "stream": "stdout",
       "text": [
        "\n",
        "20131221/search_input/000013"
       ]
      },
      {
       "output_type": "stream",
       "stream": "stdout",
       "text": [
        "\n",
        "20131221/search_input/000014"
       ]
      },
      {
       "output_type": "stream",
       "stream": "stdout",
       "text": [
        "\n",
        "20131221/search_input/000015"
       ]
      },
      {
       "output_type": "stream",
       "stream": "stdout",
       "text": [
        "\n",
        "20131221/search_input/000016"
       ]
      },
      {
       "output_type": "stream",
       "stream": "stdout",
       "text": [
        "\n",
        "20131221/search_input/000017"
       ]
      },
      {
       "output_type": "stream",
       "stream": "stdout",
       "text": [
        "\n",
        "20131221/search_input/000018"
       ]
      },
      {
       "output_type": "stream",
       "stream": "stdout",
       "text": [
        "\n",
        "20131221/search_input/000019"
       ]
      },
      {
       "output_type": "stream",
       "stream": "stdout",
       "text": [
        "\n",
        "20131221/search_input/000020"
       ]
      },
      {
       "output_type": "stream",
       "stream": "stdout",
       "text": [
        "\n",
        "20131221/search_input/000021"
       ]
      },
      {
       "output_type": "stream",
       "stream": "stdout",
       "text": [
        "\n",
        "20131221/search_input/000022"
       ]
      },
      {
       "output_type": "stream",
       "stream": "stdout",
       "text": [
        "\n",
        "20131221/search_input/000023"
       ]
      },
      {
       "output_type": "stream",
       "stream": "stdout",
       "text": [
        "\n",
        "20131221/search_input/000024"
       ]
      },
      {
       "output_type": "stream",
       "stream": "stdout",
       "text": [
        "\n",
        "20131221/search_input/000025"
       ]
      },
      {
       "output_type": "stream",
       "stream": "stdout",
       "text": [
        "\n",
        "20131221/search_input/000026"
       ]
      },
      {
       "output_type": "stream",
       "stream": "stdout",
       "text": [
        "\n",
        "20131221/search_input/000027"
       ]
      },
      {
       "output_type": "stream",
       "stream": "stdout",
       "text": [
        "\n",
        "20131221/search_input/000028"
       ]
      },
      {
       "output_type": "stream",
       "stream": "stdout",
       "text": [
        "\n",
        "20131221/search_input/000029"
       ]
      },
      {
       "output_type": "stream",
       "stream": "stdout",
       "text": [
        "\n",
        "20131221/search_input/000030"
       ]
      },
      {
       "output_type": "stream",
       "stream": "stdout",
       "text": [
        "\n",
        "20131221/search_input/000031"
       ]
      },
      {
       "output_type": "stream",
       "stream": "stdout",
       "text": [
        "\n",
        "20131221/search_input/000032"
       ]
      },
      {
       "output_type": "stream",
       "stream": "stdout",
       "text": [
        "\n",
        "20131221/search_input/000033"
       ]
      },
      {
       "output_type": "stream",
       "stream": "stdout",
       "text": [
        "\n",
        "20131221/search_input/000034"
       ]
      },
      {
       "output_type": "stream",
       "stream": "stdout",
       "text": [
        "\n",
        "20131221/search_input/000035"
       ]
      },
      {
       "output_type": "stream",
       "stream": "stdout",
       "text": [
        "\n",
        "20131221/search_input/000036"
       ]
      },
      {
       "output_type": "stream",
       "stream": "stdout",
       "text": [
        "\n",
        "20131221/search_input/000037"
       ]
      },
      {
       "output_type": "stream",
       "stream": "stdout",
       "text": [
        "\n",
        "20131221/search_input/000038"
       ]
      },
      {
       "output_type": "stream",
       "stream": "stdout",
       "text": [
        "\n",
        "20131221/search_input/000039"
       ]
      },
      {
       "output_type": "stream",
       "stream": "stdout",
       "text": [
        "\n",
        "20131221/search_input/000040"
       ]
      },
      {
       "output_type": "stream",
       "stream": "stdout",
       "text": [
        "\n",
        "20131221/search_input/000041"
       ]
      },
      {
       "output_type": "stream",
       "stream": "stdout",
       "text": [
        "\n",
        "20131221/search_input/000042"
       ]
      },
      {
       "output_type": "stream",
       "stream": "stdout",
       "text": [
        "\n",
        "20131221/search_input/000043"
       ]
      },
      {
       "output_type": "stream",
       "stream": "stdout",
       "text": [
        "\n",
        "20131221/search_input/000044"
       ]
      },
      {
       "output_type": "stream",
       "stream": "stdout",
       "text": [
        "\n",
        "20131221/search_input/000045"
       ]
      },
      {
       "output_type": "stream",
       "stream": "stdout",
       "text": [
        "\n",
        "20131221/search_input/000046"
       ]
      },
      {
       "output_type": "stream",
       "stream": "stdout",
       "text": [
        "\n",
        "20131221/search_input/000047"
       ]
      },
      {
       "output_type": "stream",
       "stream": "stdout",
       "text": [
        "\n",
        "20131221/search_input/000048"
       ]
      },
      {
       "output_type": "stream",
       "stream": "stdout",
       "text": [
        "\n",
        "20131221/search_input/000049"
       ]
      },
      {
       "output_type": "stream",
       "stream": "stdout",
       "text": [
        "\n",
        "20131221/search_input/000050"
       ]
      },
      {
       "output_type": "stream",
       "stream": "stdout",
       "text": [
        "\n",
        "20131221/search_input/000051"
       ]
      },
      {
       "output_type": "stream",
       "stream": "stdout",
       "text": [
        "\n",
        "20131221/search_input/000052"
       ]
      },
      {
       "output_type": "stream",
       "stream": "stdout",
       "text": [
        "\n",
        "20131221/search_input/000053"
       ]
      },
      {
       "output_type": "stream",
       "stream": "stdout",
       "text": [
        "\n",
        "20131221/search_input/000054"
       ]
      },
      {
       "output_type": "stream",
       "stream": "stdout",
       "text": [
        "\n",
        "20131221/search_input/000055"
       ]
      },
      {
       "output_type": "stream",
       "stream": "stdout",
       "text": [
        "\n",
        "20131221/search_input/000056"
       ]
      },
      {
       "output_type": "stream",
       "stream": "stdout",
       "text": [
        "\n",
        "20131221/search_input/000057"
       ]
      },
      {
       "output_type": "stream",
       "stream": "stdout",
       "text": [
        "\n",
        "20131221/search_input/000058"
       ]
      },
      {
       "output_type": "stream",
       "stream": "stdout",
       "text": [
        "\n",
        "20131221/search_input/000059"
       ]
      },
      {
       "output_type": "stream",
       "stream": "stdout",
       "text": [
        "\n",
        "20131221/search_input/000060"
       ]
      },
      {
       "output_type": "stream",
       "stream": "stdout",
       "text": [
        "\n",
        "20131221/search_input/000061"
       ]
      },
      {
       "output_type": "stream",
       "stream": "stdout",
       "text": [
        "\n",
        "20131221/search_input/000062"
       ]
      },
      {
       "output_type": "stream",
       "stream": "stdout",
       "text": [
        "\n",
        "20131221/search_input/000063"
       ]
      },
      {
       "output_type": "stream",
       "stream": "stdout",
       "text": [
        "\n",
        "20131221/search_input/000064"
       ]
      },
      {
       "output_type": "stream",
       "stream": "stdout",
       "text": [
        "\n",
        "20131221/search_input/000065"
       ]
      },
      {
       "output_type": "stream",
       "stream": "stdout",
       "text": [
        "\n",
        "20131221/search_input/000066"
       ]
      },
      {
       "output_type": "stream",
       "stream": "stdout",
       "text": [
        "\n",
        "20131221/search_input/000067"
       ]
      },
      {
       "output_type": "stream",
       "stream": "stdout",
       "text": [
        "\n",
        "20131221/search_input/000068"
       ]
      },
      {
       "output_type": "stream",
       "stream": "stdout",
       "text": [
        "\n",
        "20131221/search_input/000069"
       ]
      },
      {
       "output_type": "stream",
       "stream": "stdout",
       "text": [
        "\n",
        "20131221/search_input/000070"
       ]
      },
      {
       "output_type": "stream",
       "stream": "stdout",
       "text": [
        "\n",
        "20131221/search_input/000071"
       ]
      },
      {
       "output_type": "stream",
       "stream": "stdout",
       "text": [
        "\n",
        "20131221/search_input/000072"
       ]
      },
      {
       "output_type": "stream",
       "stream": "stdout",
       "text": [
        "\n",
        "20131221/search_input/000073"
       ]
      },
      {
       "output_type": "stream",
       "stream": "stdout",
       "text": [
        "\n",
        "20131221/search_input/000074"
       ]
      },
      {
       "output_type": "stream",
       "stream": "stdout",
       "text": [
        "\n",
        "20131221/search_input/000075"
       ]
      },
      {
       "output_type": "stream",
       "stream": "stdout",
       "text": [
        "\n",
        "Working on day 2"
       ]
      },
      {
       "output_type": "stream",
       "stream": "stdout",
       "text": [
        "\n",
        "20131222/search_input/000000\n",
        "20131222/search_input/000001"
       ]
      },
      {
       "output_type": "stream",
       "stream": "stdout",
       "text": [
        "\n",
        "20131222/search_input/000002"
       ]
      },
      {
       "output_type": "stream",
       "stream": "stdout",
       "text": [
        "\n",
        "20131222/search_input/000003"
       ]
      },
      {
       "output_type": "stream",
       "stream": "stdout",
       "text": [
        "\n",
        "20131222/search_input/000004"
       ]
      },
      {
       "output_type": "stream",
       "stream": "stdout",
       "text": [
        "\n",
        "20131222/search_input/000005"
       ]
      },
      {
       "output_type": "stream",
       "stream": "stdout",
       "text": [
        "\n",
        "20131222/search_input/000006"
       ]
      },
      {
       "output_type": "stream",
       "stream": "stdout",
       "text": [
        "\n",
        "20131222/search_input/000007"
       ]
      },
      {
       "output_type": "stream",
       "stream": "stdout",
       "text": [
        "\n",
        "20131222/search_input/000008"
       ]
      },
      {
       "output_type": "stream",
       "stream": "stdout",
       "text": [
        "\n",
        "20131222/search_input/000009"
       ]
      },
      {
       "output_type": "stream",
       "stream": "stdout",
       "text": [
        "\n",
        "20131222/search_input/000010"
       ]
      },
      {
       "output_type": "stream",
       "stream": "stdout",
       "text": [
        "\n",
        "20131222/search_input/000011"
       ]
      },
      {
       "output_type": "stream",
       "stream": "stdout",
       "text": [
        "\n",
        "20131222/search_input/000012"
       ]
      },
      {
       "output_type": "stream",
       "stream": "stdout",
       "text": [
        "\n",
        "20131222/search_input/000013"
       ]
      },
      {
       "output_type": "stream",
       "stream": "stdout",
       "text": [
        "\n",
        "20131222/search_input/000014"
       ]
      },
      {
       "output_type": "stream",
       "stream": "stdout",
       "text": [
        "\n",
        "20131222/search_input/000015"
       ]
      },
      {
       "output_type": "stream",
       "stream": "stdout",
       "text": [
        "\n",
        "20131222/search_input/000016"
       ]
      },
      {
       "output_type": "stream",
       "stream": "stdout",
       "text": [
        "\n",
        "20131222/search_input/000017"
       ]
      },
      {
       "output_type": "stream",
       "stream": "stdout",
       "text": [
        "\n",
        "20131222/search_input/000018"
       ]
      },
      {
       "output_type": "stream",
       "stream": "stdout",
       "text": [
        "\n",
        "20131222/search_input/000019"
       ]
      },
      {
       "output_type": "stream",
       "stream": "stdout",
       "text": [
        "\n",
        "20131222/search_input/000020"
       ]
      },
      {
       "output_type": "stream",
       "stream": "stdout",
       "text": [
        "\n",
        "20131222/search_input/000021"
       ]
      },
      {
       "output_type": "stream",
       "stream": "stdout",
       "text": [
        "\n",
        "20131222/search_input/000022"
       ]
      },
      {
       "output_type": "stream",
       "stream": "stdout",
       "text": [
        "\n",
        "20131222/search_input/000023"
       ]
      },
      {
       "output_type": "stream",
       "stream": "stdout",
       "text": [
        "\n",
        "20131222/search_input/000024"
       ]
      },
      {
       "output_type": "stream",
       "stream": "stdout",
       "text": [
        "\n",
        "20131222/search_input/000025"
       ]
      },
      {
       "output_type": "stream",
       "stream": "stdout",
       "text": [
        "\n",
        "20131222/search_input/000026"
       ]
      },
      {
       "output_type": "stream",
       "stream": "stdout",
       "text": [
        "\n",
        "20131222/search_input/000027"
       ]
      },
      {
       "output_type": "stream",
       "stream": "stdout",
       "text": [
        "\n",
        "20131222/search_input/000028"
       ]
      },
      {
       "output_type": "stream",
       "stream": "stdout",
       "text": [
        "\n",
        "20131222/search_input/000029"
       ]
      },
      {
       "output_type": "stream",
       "stream": "stdout",
       "text": [
        "\n",
        "20131222/search_input/000030"
       ]
      },
      {
       "output_type": "stream",
       "stream": "stdout",
       "text": [
        "\n",
        "20131222/search_input/000031"
       ]
      },
      {
       "output_type": "stream",
       "stream": "stdout",
       "text": [
        "\n",
        "20131222/search_input/000032"
       ]
      },
      {
       "output_type": "stream",
       "stream": "stdout",
       "text": [
        "\n",
        "20131222/search_input/000033"
       ]
      },
      {
       "output_type": "stream",
       "stream": "stdout",
       "text": [
        "\n",
        "20131222/search_input/000034"
       ]
      },
      {
       "output_type": "stream",
       "stream": "stdout",
       "text": [
        "\n",
        "20131222/search_input/000035"
       ]
      },
      {
       "output_type": "stream",
       "stream": "stdout",
       "text": [
        "\n",
        "20131222/search_input/000036"
       ]
      },
      {
       "output_type": "stream",
       "stream": "stdout",
       "text": [
        "\n",
        "20131222/search_input/000037"
       ]
      },
      {
       "output_type": "stream",
       "stream": "stdout",
       "text": [
        "\n",
        "20131222/search_input/000038"
       ]
      },
      {
       "output_type": "stream",
       "stream": "stdout",
       "text": [
        "\n",
        "20131222/search_input/000039"
       ]
      },
      {
       "output_type": "stream",
       "stream": "stdout",
       "text": [
        "\n",
        "20131222/search_input/000040"
       ]
      },
      {
       "output_type": "stream",
       "stream": "stdout",
       "text": [
        "\n",
        "20131222/search_input/000041"
       ]
      },
      {
       "output_type": "stream",
       "stream": "stdout",
       "text": [
        "\n",
        "20131222/search_input/000042"
       ]
      },
      {
       "output_type": "stream",
       "stream": "stdout",
       "text": [
        "\n",
        "20131222/search_input/000043"
       ]
      },
      {
       "output_type": "stream",
       "stream": "stdout",
       "text": [
        "\n",
        "20131222/search_input/000044"
       ]
      },
      {
       "output_type": "stream",
       "stream": "stdout",
       "text": [
        "\n",
        "20131222/search_input/000045"
       ]
      },
      {
       "output_type": "stream",
       "stream": "stdout",
       "text": [
        "\n",
        "20131222/search_input/000046"
       ]
      },
      {
       "output_type": "stream",
       "stream": "stdout",
       "text": [
        "\n",
        "20131222/search_input/000047"
       ]
      },
      {
       "output_type": "stream",
       "stream": "stdout",
       "text": [
        "\n",
        "20131222/search_input/000048"
       ]
      },
      {
       "output_type": "stream",
       "stream": "stdout",
       "text": [
        "\n",
        "20131222/search_input/000049"
       ]
      },
      {
       "output_type": "stream",
       "stream": "stdout",
       "text": [
        "\n",
        "20131222/search_input/000050"
       ]
      },
      {
       "output_type": "stream",
       "stream": "stdout",
       "text": [
        "\n",
        "20131222/search_input/000051"
       ]
      },
      {
       "output_type": "stream",
       "stream": "stdout",
       "text": [
        "\n",
        "20131222/search_input/000052"
       ]
      },
      {
       "output_type": "stream",
       "stream": "stdout",
       "text": [
        "\n",
        "20131222/search_input/000053"
       ]
      },
      {
       "output_type": "stream",
       "stream": "stdout",
       "text": [
        "\n",
        "20131222/search_input/000054"
       ]
      },
      {
       "output_type": "stream",
       "stream": "stdout",
       "text": [
        "\n",
        "20131222/search_input/000055"
       ]
      },
      {
       "output_type": "stream",
       "stream": "stdout",
       "text": [
        "\n",
        "20131222/search_input/000056"
       ]
      },
      {
       "output_type": "stream",
       "stream": "stdout",
       "text": [
        "\n",
        "20131222/search_input/000057"
       ]
      },
      {
       "output_type": "stream",
       "stream": "stdout",
       "text": [
        "\n",
        "20131222/search_input/000058"
       ]
      },
      {
       "output_type": "stream",
       "stream": "stdout",
       "text": [
        "\n",
        "20131222/search_input/000059"
       ]
      },
      {
       "output_type": "stream",
       "stream": "stdout",
       "text": [
        "\n",
        "20131222/search_input/000060"
       ]
      },
      {
       "output_type": "stream",
       "stream": "stdout",
       "text": [
        "\n",
        "20131222/search_input/000061"
       ]
      },
      {
       "output_type": "stream",
       "stream": "stdout",
       "text": [
        "\n",
        "20131222/search_input/000062"
       ]
      },
      {
       "output_type": "stream",
       "stream": "stdout",
       "text": [
        "\n",
        "20131222/search_input/000063"
       ]
      },
      {
       "output_type": "stream",
       "stream": "stdout",
       "text": [
        "\n",
        "20131222/search_input/000064"
       ]
      },
      {
       "output_type": "stream",
       "stream": "stdout",
       "text": [
        "\n",
        "20131222/search_input/000065"
       ]
      },
      {
       "output_type": "stream",
       "stream": "stdout",
       "text": [
        "\n",
        "20131222/search_input/000066"
       ]
      },
      {
       "output_type": "stream",
       "stream": "stdout",
       "text": [
        "\n",
        "20131222/search_input/000067"
       ]
      },
      {
       "output_type": "stream",
       "stream": "stdout",
       "text": [
        "\n",
        "20131222/search_input/000068"
       ]
      },
      {
       "output_type": "stream",
       "stream": "stdout",
       "text": [
        "\n",
        "20131222/search_input/000069"
       ]
      },
      {
       "output_type": "stream",
       "stream": "stdout",
       "text": [
        "\n",
        "20131222/search_input/000070"
       ]
      },
      {
       "output_type": "stream",
       "stream": "stdout",
       "text": [
        "\n",
        "20131222/search_input/000071"
       ]
      },
      {
       "output_type": "stream",
       "stream": "stdout",
       "text": [
        "\n",
        "20131222/search_input/000072"
       ]
      },
      {
       "output_type": "stream",
       "stream": "stdout",
       "text": [
        "\n",
        "20131222/search_input/000073"
       ]
      },
      {
       "output_type": "stream",
       "stream": "stdout",
       "text": [
        "\n",
        "20131222/search_input/000074"
       ]
      },
      {
       "output_type": "stream",
       "stream": "stdout",
       "text": [
        "\n",
        "20131222/search_input/000075"
       ]
      },
      {
       "output_type": "stream",
       "stream": "stdout",
       "text": [
        "\n",
        "20131222/search_input/000076"
       ]
      },
      {
       "output_type": "stream",
       "stream": "stdout",
       "text": [
        "\n",
        "20131222/search_input/000077"
       ]
      },
      {
       "output_type": "stream",
       "stream": "stdout",
       "text": [
        "\n",
        "20131222/search_input/000078"
       ]
      },
      {
       "output_type": "stream",
       "stream": "stdout",
       "text": [
        "\n",
        "20131222/search_input/000079"
       ]
      },
      {
       "output_type": "stream",
       "stream": "stdout",
       "text": [
        "\n",
        "20131222/search_input/000080"
       ]
      },
      {
       "output_type": "stream",
       "stream": "stdout",
       "text": [
        "\n",
        "20131222/search_input/000081"
       ]
      },
      {
       "output_type": "stream",
       "stream": "stdout",
       "text": [
        "\n",
        "20131222/search_input/000082"
       ]
      },
      {
       "output_type": "stream",
       "stream": "stdout",
       "text": [
        "\n",
        "20131222/search_input/000083"
       ]
      },
      {
       "output_type": "stream",
       "stream": "stdout",
       "text": [
        "\n",
        "20131222/search_input/000084"
       ]
      },
      {
       "output_type": "stream",
       "stream": "stdout",
       "text": [
        "\n",
        "20131222/search_input/000085"
       ]
      },
      {
       "output_type": "stream",
       "stream": "stdout",
       "text": [
        "\n",
        "20131222/search_input/000086"
       ]
      },
      {
       "output_type": "stream",
       "stream": "stdout",
       "text": [
        "\n",
        "20131222/search_input/000087"
       ]
      },
      {
       "output_type": "stream",
       "stream": "stdout",
       "text": [
        "\n",
        "20131222/search_input/000088"
       ]
      },
      {
       "output_type": "stream",
       "stream": "stdout",
       "text": [
        "\n",
        "20131222/search_input/000089"
       ]
      },
      {
       "output_type": "stream",
       "stream": "stdout",
       "text": [
        "\n",
        "20131222/search_input/000090"
       ]
      },
      {
       "output_type": "stream",
       "stream": "stdout",
       "text": [
        "\n",
        "20131222/search_input/000091"
       ]
      },
      {
       "output_type": "stream",
       "stream": "stdout",
       "text": [
        "\n",
        "20131222/search_input/000092"
       ]
      },
      {
       "output_type": "stream",
       "stream": "stdout",
       "text": [
        "\n",
        "20131222/search_input/000093"
       ]
      },
      {
       "output_type": "stream",
       "stream": "stdout",
       "text": [
        "\n",
        "20131222/search_input/000094"
       ]
      },
      {
       "output_type": "stream",
       "stream": "stdout",
       "text": [
        "\n",
        "20131222/search_input/000095"
       ]
      },
      {
       "output_type": "stream",
       "stream": "stdout",
       "text": [
        "\n",
        "20131222/search_input/000096"
       ]
      },
      {
       "output_type": "stream",
       "stream": "stdout",
       "text": [
        "\n",
        "20131222/search_input/000097"
       ]
      },
      {
       "output_type": "stream",
       "stream": "stdout",
       "text": [
        "\n",
        "20131222/search_input/000098"
       ]
      },
      {
       "output_type": "stream",
       "stream": "stdout",
       "text": [
        "\n",
        "20131222/search_input/000099"
       ]
      },
      {
       "output_type": "stream",
       "stream": "stdout",
       "text": [
        "\n",
        "20131222/search_input/000100"
       ]
      },
      {
       "output_type": "stream",
       "stream": "stdout",
       "text": [
        "\n",
        "20131222/search_input/000101"
       ]
      },
      {
       "output_type": "stream",
       "stream": "stdout",
       "text": [
        "\n",
        "20131222/search_input/000102"
       ]
      },
      {
       "output_type": "stream",
       "stream": "stdout",
       "text": [
        "\n",
        "20131222/search_input/000103"
       ]
      },
      {
       "output_type": "stream",
       "stream": "stdout",
       "text": [
        "\n",
        "20131222/search_input/000104"
       ]
      },
      {
       "output_type": "stream",
       "stream": "stdout",
       "text": [
        "\n",
        "20131222/search_input/000105"
       ]
      },
      {
       "output_type": "stream",
       "stream": "stdout",
       "text": [
        "\n",
        "20131222/search_input/000106"
       ]
      },
      {
       "output_type": "stream",
       "stream": "stdout",
       "text": [
        "\n",
        "20131222/search_input/000107"
       ]
      },
      {
       "output_type": "stream",
       "stream": "stdout",
       "text": [
        "\n",
        "20131222/search_input/000108"
       ]
      },
      {
       "output_type": "stream",
       "stream": "stdout",
       "text": [
        "\n",
        "20131222/search_input/000109"
       ]
      },
      {
       "output_type": "stream",
       "stream": "stdout",
       "text": [
        "\n",
        "20131222/search_input/000110"
       ]
      },
      {
       "output_type": "stream",
       "stream": "stdout",
       "text": [
        "\n",
        "20131222/search_input/000111"
       ]
      },
      {
       "output_type": "stream",
       "stream": "stdout",
       "text": [
        "\n",
        "20131222/search_input/000112"
       ]
      },
      {
       "output_type": "stream",
       "stream": "stdout",
       "text": [
        "\n",
        "20131222/search_input/000113"
       ]
      },
      {
       "output_type": "stream",
       "stream": "stdout",
       "text": [
        "\n",
        "20131222/search_input/000114"
       ]
      },
      {
       "output_type": "stream",
       "stream": "stdout",
       "text": [
        "\n",
        "20131222/search_input/000115"
       ]
      },
      {
       "output_type": "stream",
       "stream": "stdout",
       "text": [
        "\n",
        "20131222/search_input/000116"
       ]
      },
      {
       "output_type": "stream",
       "stream": "stdout",
       "text": [
        "\n",
        "20131222/search_input/000117"
       ]
      },
      {
       "output_type": "stream",
       "stream": "stdout",
       "text": [
        "\n",
        "20131222/search_input/000118"
       ]
      },
      {
       "output_type": "stream",
       "stream": "stdout",
       "text": [
        "\n",
        "20131222/search_input/000119"
       ]
      },
      {
       "output_type": "stream",
       "stream": "stdout",
       "text": [
        "\n",
        "20131222/search_input/000120"
       ]
      },
      {
       "output_type": "stream",
       "stream": "stdout",
       "text": [
        "\n",
        "20131222/search_input/000121"
       ]
      },
      {
       "output_type": "stream",
       "stream": "stdout",
       "text": [
        "\n",
        "20131222/search_input/000122"
       ]
      },
      {
       "output_type": "stream",
       "stream": "stdout",
       "text": [
        "\n",
        "20131222/search_input/000123"
       ]
      },
      {
       "output_type": "stream",
       "stream": "stdout",
       "text": [
        "\n",
        "20131222/search_input/000124"
       ]
      },
      {
       "output_type": "stream",
       "stream": "stdout",
       "text": [
        "\n",
        "20131222/search_input/000125"
       ]
      },
      {
       "output_type": "stream",
       "stream": "stdout",
       "text": [
        "\n",
        "20131222/search_input/000126"
       ]
      },
      {
       "output_type": "stream",
       "stream": "stdout",
       "text": [
        "\n",
        "20131222/search_input/000127"
       ]
      },
      {
       "output_type": "stream",
       "stream": "stdout",
       "text": [
        "\n",
        "20131222/search_input/000128"
       ]
      },
      {
       "output_type": "stream",
       "stream": "stdout",
       "text": [
        "\n",
        "20131222/search_input/000129"
       ]
      },
      {
       "output_type": "stream",
       "stream": "stdout",
       "text": [
        "\n",
        "20131222/search_input/000130"
       ]
      },
      {
       "output_type": "stream",
       "stream": "stdout",
       "text": [
        "\n",
        "20131222/search_input/000131"
       ]
      },
      {
       "output_type": "stream",
       "stream": "stdout",
       "text": [
        "\n",
        "20131222/search_input/000132"
       ]
      },
      {
       "output_type": "stream",
       "stream": "stdout",
       "text": [
        "\n",
        "20131222/search_input/000133"
       ]
      },
      {
       "output_type": "stream",
       "stream": "stdout",
       "text": [
        "\n",
        "20131222/search_input/000134"
       ]
      },
      {
       "output_type": "stream",
       "stream": "stdout",
       "text": [
        "\n",
        "20131222/search_input/000135"
       ]
      },
      {
       "output_type": "stream",
       "stream": "stdout",
       "text": [
        "\n"
       ]
      }
     ],
     "prompt_number": 397
    },
    {
     "cell_type": "heading",
     "level": 3,
     "metadata": {},
     "source": [
      "Additional Analysis"
     ]
    },
    {
     "cell_type": "code",
     "collapsed": false,
     "input": [
      "plt.plot(count_matrix[\"tt\"]/count_matrix[\"tt\"].sum())\n",
      "plt.hold(True)\n",
      "plt.plot(count_matrix[\"lt\"]/count_matrix[\"lt\"].sum())\n",
      "plt.plot(count_matrix[\"de\"]/count_matrix[\"de\"].sum())\n",
      "plt.plot(count_matrix[\"ru\"]/count_matrix[\"ru\"].sum())\n",
      "plt.legend(('TT','LT','DE','RU'))"
     ],
     "language": "python",
     "metadata": {},
     "outputs": [
      {
       "metadata": {},
       "output_type": "pyout",
       "prompt_number": 416,
       "text": [
        "<matplotlib.legend.Legend at 0x11abbf6d0>"
       ]
      },
      {
       "metadata": {},
       "output_type": "display_data",
       "png": "[encoded data removed]",
       "text": [
        "<matplotlib.figure.Figure at 0x119469b10>"
       ]
      }
     ],
     "prompt_number": 416
    },
    {
     "cell_type": "markdown",
     "metadata": {},
     "source": [
      "Should we correlate with the:\n",
      "\n",
      "- Raw attack counts?\n",
      "- Normalized attack counts?\n",
      "- Log(attack count)?\n",
      "- Something else?"
     ]
    },
    {
     "cell_type": "code",
     "collapsed": false,
     "input": [],
     "language": "python",
     "metadata": {},
     "outputs": []
    },
    {
     "cell_type": "heading",
     "level": 3,
     "metadata": {},
     "source": [
      "Convert Dictionary to Numpy Array and Compute correlation"
     ]
    },
    {
     "cell_type": "code",
     "collapsed": false,
     "input": [
      "x = np.zeros((len(count_matrix.keys()),NUM_HOURS))\n",
      "y = []\n",
      "for i,item in enumerate(count_matrix.items()):\n",
      "    #print item[0]\n",
      "    x[i,:] = item[1]\n",
      "    y.append(item[0])"
     ],
     "language": "python",
     "metadata": {},
     "outputs": [],
     "prompt_number": 460
    },
    {
     "cell_type": "code",
     "collapsed": false,
     "input": [
      "np.save('violationTraffic72hrs_1220_1222',x)\n",
      "np.save('violation_countries',y)"
     ],
     "language": "python",
     "metadata": {},
     "outputs": [],
     "prompt_number": 410
    },
    {
     "cell_type": "heading",
     "level": 3,
     "metadata": {},
     "source": [
      "Can we just choose the highest attackers in the window?"
     ]
    },
    {
     "cell_type": "code",
     "collapsed": false,
     "input": [
      "np.shape(np.squeeze(np.argsort(x.sum(1))))"
     ],
     "language": "python",
     "metadata": {},
     "outputs": [
      {
       "metadata": {},
       "output_type": "pyout",
       "prompt_number": 510,
       "text": [
        "(212,)"
       ]
      }
     ],
     "prompt_number": 510
    },
    {
     "cell_type": "code",
     "collapsed": false,
     "input": [
      "rankidx = np.argsort(x.sum(1))       # Lowest to highest\n",
      "ranked_offenders = [y[i] for i in rankidx]"
     ],
     "language": "python",
     "metadata": {},
     "outputs": [],
     "prompt_number": 590
    },
    {
     "cell_type": "code",
     "collapsed": false,
     "input": [
      "plt.plot(np.log10(x.sum(1)))\n",
      "for c in ranked_offenders[-25:]:\n",
      "    #print c\n",
      "    print cc[c]"
     ],
     "language": "python",
     "metadata": {},
     "outputs": [
      {
       "output_type": "stream",
       "stream": "stdout",
       "text": [
        "Philippines\n",
        "Mexico\n",
        "Hong Kong\n",
        "Australia\n",
        "Indonesia\n",
        "Brazil\n",
        "Japan\n",
        "Korea, Republic of\n",
        "India\n",
        "Portugal\n",
        "Spain\n",
        "Ukraine\n",
        "France\n",
        "Canada\n",
        "China\n",
        "Singapore\n",
        "Malaysia\n",
        "Slovakia\n",
        "Virgin Islands, British\n",
        "Netherlands\n",
        "Norway\n",
        "Russian Federation\n",
        "Germany\n",
        "United Kingdom\n",
        "United States\n"
       ]
      },
      {
       "metadata": {},
       "output_type": "display_data",
       "png": "[encoded data removed]",
       "text": [
        "<matplotlib.figure.Figure at 0x11f8e1fd0>"
       ]
      }
     ],
     "prompt_number": 593
    },
    {
     "cell_type": "code",
     "collapsed": false,
     "input": [],
     "language": "python",
     "metadata": {},
     "outputs": []
    },
    {
     "cell_type": "code",
     "collapsed": false,
     "input": [
      "plt.matshow(np.log10(x))\n"
     ],
     "language": "python",
     "metadata": {},
     "outputs": [
      {
       "metadata": {},
       "output_type": "pyout",
       "prompt_number": 461,
       "text": [
        "<matplotlib.image.AxesImage at 0x11bab0490>"
       ]
      },
      {
       "metadata": {},
       "output_type": "display_data",
       "png": "[encoded data removed]",
       "text": [
        "<matplotlib.figure.Figure at 0x109570bd0>"
       ]
      }
     ],
     "prompt_number": 461
    },
    {
     "cell_type": "code",
     "collapsed": false,
     "input": [
      "norm_x = x / x.sum()\n",
      "corr_mat = np.corrcoef(x)"
     ],
     "language": "python",
     "metadata": {},
     "outputs": [],
     "prompt_number": 466
    },
    {
     "cell_type": "heading",
     "level": 4,
     "metadata": {},
     "source": [
      "Example's of High and Low Correlation"
     ]
    },
    {
     "cell_type": "code",
     "collapsed": false,
     "input": [
      "plt.plot(x[200,:]/x[200,:].sum())\n",
      "plt.hold(True)\n",
      "plt.plot(x[105,:]/x[105,:].sum())\n",
      "plt.legend((cc[y[200]],cc[y[105]]))\n",
      "plt.xlabel('Hours of attack')\n",
      "plt.ylabel('Normalized bot traffic per hour')\n",
      "print \"Correlation between {0} and {1} is {2}\".format(cc[y[200]],cc[y[105]],str(corr_mat[200,105]))"
     ],
     "language": "python",
     "metadata": {},
     "outputs": [
      {
       "output_type": "stream",
       "stream": "stdout",
       "text": [
        "Correlation between Slovakia and Puerto Rico is 0.0811936591777\n"
       ]
      },
      {
       "metadata": {},
       "output_type": "display_data",
       "png": "[encoded data removed]",
       "text": [
        "<matplotlib.figure.Figure at 0x11ed77a90>"
       ]
      }
     ],
     "prompt_number": 547
    },
    {
     "cell_type": "code",
     "collapsed": false,
     "input": [
      "plt.plot(x[62,:]/x[62,:].sum())\n",
      "plt.hold(True)\n",
      "plt.plot(x[58,:]/x[58,:].sum())\n",
      "plt.legend((cc[y[62]],cc[y[58]]))\n",
      "plt.xlabel('Hours of attack')\n",
      "plt.ylabel('Normalized bot traffic per hour')\n",
      "print \"Correlation between {0} and {1} is {2}\".format(cc[y[62]],cc[y[58]],str(corr_mat[62,58]))"
     ],
     "language": "python",
     "metadata": {},
     "outputs": [
      {
       "output_type": "stream",
       "stream": "stdout",
       "text": [
        "Correlation between Bulgaria and Romania is 0.984246615926\n"
       ]
      },
      {
       "metadata": {},
       "output_type": "display_data",
       "png": "[encoded data removed]",
       "text": [
        "<matplotlib.figure.Figure at 0x11edac2d0>"
       ]
      }
     ],
     "prompt_number": 557
    },
    {
     "cell_type": "code",
     "collapsed": false,
     "input": [
      "corr_mat[62,58]"
     ],
     "language": "python",
     "metadata": {},
     "outputs": [
      {
       "metadata": {},
       "output_type": "pyout",
       "prompt_number": 556,
       "text": [
        "0.98424661592555118"
       ]
      }
     ],
     "prompt_number": 556
    },
    {
     "cell_type": "code",
     "collapsed": false,
     "input": [
      "plt.plot(corr_mat[62,:])\n",
      "plt.title('Correlations to Bulgaria')\n",
      "\n",
      "bulg_corr_rank = np.argsort(corr_mat[62,:])     # Smallest to largest\n",
      "bulg_sorted_corr = np.sort(corr_mat[62,:])      # Smallest to largest\n",
      "bulg_corr_countries = [cc[y[i]] for i in bulg_corr_rank[-15:]]\n",
      "print bulg_corr_countries\n",
      "print bulg_sorted_corr[-15:]"
     ],
     "language": "python",
     "metadata": {},
     "outputs": [
      {
       "output_type": "stream",
       "stream": "stdout",
       "text": [
        "[u'Latvia', u'Lithuania', u'Finland', u'Austria', u'Sweden', u'Cyprus', u'Poland', u'Switzerland', u'France', u'Hungary', u'Slovenia', u'Italy', u'Norway', u'Romania', u'Bulgaria']\n",
        "[ 0.6459668   0.65920068  0.70149783  0.7324534   0.77731333  0.7891734\n",
        "  0.82832772  0.82911753  0.90340531  0.92046049  0.92949687  0.93068009\n",
        "  0.93921212  0.98424662  1.        ]\n"
       ]
      },
      {
       "metadata": {},
       "output_type": "display_data",
       "png": "[encoded data removed]",
       "text": [
        "<matplotlib.figure.Figure at 0x11e58dc50>"
       ]
      }
     ],
     "prompt_number": 579
    },
    {
     "cell_type": "code",
     "collapsed": false,
     "input": [
      "plt.matshow(corr_mat[50:70,50:70],fignum=100, cmap=plt.cm.Blues)\n",
      "plt.colorbar()\n",
      "\n",
      "print [cc[y[i]] for i in range(58,63)]"
     ],
     "language": "python",
     "metadata": {},
     "outputs": [
      {
       "output_type": "stream",
       "stream": "stdout",
       "text": [
        "[u'Romania', u'Bangladesh', u'Belgium', u'Burkina Faso', u'Bulgaria']\n"
       ]
      },
      {
       "metadata": {},
       "output_type": "display_data",
       "png": "[encoded data removed]",
       "text": [
        "<matplotlib.figure.Figure at 0x11f8ecf10>"
       ]
      }
     ],
     "prompt_number": 570
    },
    {
     "cell_type": "code",
     "collapsed": false,
     "input": [
      "from matplotlib.pyplot import cm\n",
      "\n",
      "fig, ax = plt.subplots(figsize=(6,6))\n",
      "ax.matshow(corr_mat,cmap=plt.cm.Blues)\n"
     ],
     "language": "python",
     "metadata": {},
     "outputs": [
      {
       "metadata": {},
       "output_type": "pyout",
       "prompt_number": 567,
       "text": [
        "<matplotlib.image.AxesImage at 0x11edae1d0>"
       ]
      },
      {
       "metadata": {},
       "output_type": "display_data",
       "png": "[encoded data removed]",
       "text": [
        "<matplotlib.figure.Figure at 0x11e411cd0>"
       ]
      }
     ],
     "prompt_number": 567
    },
    {
     "cell_type": "code",
     "collapsed": false,
     "input": [
      "from sklearn.cluster.bicluster import *\n",
      "\n",
      "bc = SpectralCoclustering(n_clusters=2)\n",
      "bc.fit(corr_mat)\n"
     ],
     "language": "python",
     "metadata": {},
     "outputs": [],
     "prompt_number": 594
    },
    {
     "cell_type": "code",
     "collapsed": false,
     "input": [
      "fit_data = corr_mat[np.argsort(bc.row_labels_)]\n",
      "fit_data = fit_data[:, np.argsort(bc.column_labels_)]\n",
      "\n",
      "plt.matshow(fit_data, cmap=plt.cm.Blues)\n",
      "plt.title(\"After biclustering; rearranged to show biclusters\")"
     ],
     "language": "python",
     "metadata": {},
     "outputs": [
      {
       "metadata": {},
       "output_type": "pyout",
       "prompt_number": 595,
       "text": [
        "<matplotlib.text.Text at 0x11f49de50>"
       ]
      },
      {
       "metadata": {},
       "output_type": "display_data",
       "png": "[encoded data removed]",
       "text": [
        "<matplotlib.figure.Figure at 0x11f8ed090>"
       ]
      }
     ],
     "prompt_number": 595
    },
    {
     "cell_type": "code",
     "collapsed": false,
     "input": [
      "print bc.get_shape(2)"
     ],
     "language": "python",
     "metadata": {},
     "outputs": [
      {
       "output_type": "stream",
       "stream": "stdout",
       "text": [
        "(49, 47)\n"
       ]
      }
     ],
     "prompt_number": 487
    },
    {
     "cell_type": "code",
     "collapsed": false,
     "input": [
      "filtered_lst = [y[i] for i in bc.get_indices(1)[0]]\n",
      "for country_code in filtered_lst:\n",
      "    print cc[country_code]"
     ],
     "language": "python",
     "metadata": {},
     "outputs": [
      {
       "output_type": "stream",
       "stream": "stdout",
       "text": [
        "Trinidad and Tobago\n",
        "Tonga\n",
        "Lithuania\n",
        "Germany\n",
        "South Africa\n",
        "??\n",
        "Russian Federation\n",
        "Romania\n",
        "Belgium\n",
        "Burkina Faso\n",
        "Bulgaria\n",
        "Barbados\n",
        "Brunei Darussalam\n",
        "Japan\n",
        "Samoa\n",
        "Belize\n",
        "Switzerland\n",
        "Canada\n",
        "Czech Republic\n",
        "Cyprus\n",
        "Costa Rica\n",
        "Poland\n",
        "Italy\n",
        "Honduras\n",
        "United States\n",
        "Northern Mariana Islands\n",
        "Mexico\n",
        "Austria\n",
        "Saint Vincent and the Grenadines\n",
        "American Samoa\n",
        "Australia\n",
        "Ireland\n",
        "Norway\n",
        "New Zealand\n",
        "France\n",
        "Finland\n",
        "Hungary\n",
        "Slovenia\n",
        "Cayman Islands\n",
        "Singapore\n",
        "Sweden\n"
       ]
      }
     ],
     "prompt_number": 488
    },
    {
     "cell_type": "code",
     "collapsed": false,
     "input": [
      "from sklearn.cluster import Ward\n",
      "\n",
      "ward = Ward(n_clusters=2).fit(corr_mat)\n",
      "\n",
      "#label = np.reshape(ward.labels_, corr_mat.shape)"
     ],
     "language": "python",
     "metadata": {},
     "outputs": [],
     "prompt_number": 604
    },
    {
     "cell_type": "code",
     "collapsed": false,
     "input": [
      "from sklearn.cluster import Ward\n",
      "\n",
      "ward_labels = Ward(n_clusters=2).fit_predict(corr_mat)"
     ],
     "language": "python",
     "metadata": {},
     "outputs": [],
     "prompt_number": 610
    },
    {
     "cell_type": "code",
     "collapsed": false,
     "input": [
      "idx = np.where(ward.labels_==1)\n",
      "idx[0]\n",
      "\n",
      "filtered_lst2 = [y[i] for i in idx[0]]\n",
      "print filtered_lst2\n",
      "for country_code in filtered_lst2:\n",
      "    print cc[country_code]"
     ],
     "language": "python",
     "metadata": {},
     "outputs": [
      {
       "output_type": "stream",
       "stream": "stdout",
       "text": [
        "['tt', 'lt', 'de', 'ru', 'ro', 'be', 'bf', 'bg', 'ch', 'cz', 'cy', 'cr', 'lv', 'pl', 'it', 'at', 'no', 'ne', 'fr', 'fi', 'hu', 'si', 'se']\n",
        "Trinidad and Tobago\n",
        "Lithuania\n",
        "Germany\n",
        "Russian Federation\n",
        "Romania\n",
        "Belgium\n",
        "Burkina Faso\n",
        "Bulgaria\n",
        "Switzerland\n",
        "Czech Republic\n",
        "Cyprus\n",
        "Costa Rica\n",
        "Latvia\n",
        "Poland\n",
        "Italy\n",
        "Austria\n",
        "Norway\n",
        "Niger\n",
        "France\n",
        "Finland\n",
        "Hungary\n",
        "Slovenia\n",
        "Sweden\n"
       ]
      }
     ],
     "prompt_number": 605
    },
    {
     "cell_type": "heading",
     "level": 3,
     "metadata": {},
     "source": [
      "Plot Correlation Matrix of Offending Countries"
     ]
    },
    {
     "cell_type": "markdown",
     "metadata": {},
     "source": [
      "This is just the correlation matrix subset for the offending countries."
     ]
    },
    {
     "cell_type": "code",
     "collapsed": false,
     "input": [
      "sub_corr_mat = corr_mat[idx[0],:]\n",
      "sub_corr_mat = sub_corr_mat[:,idx[0]]\n",
      "plt.matshow(sub_corr_mat,cmap=plt.cm.Blues)\n",
      "plt.colorbar()"
     ],
     "language": "python",
     "metadata": {},
     "outputs": [
      {
       "metadata": {},
       "output_type": "pyout",
       "prompt_number": 603,
       "text": [
        "<matplotlib.colorbar.Colorbar instance at 0x11b219d40>"
       ]
      },
      {
       "metadata": {},
       "output_type": "display_data",
       "png": "[encoded data removed]",
       "text": [
        "<matplotlib.figure.Figure at 0x11f7fc610>"
       ]
      }
     ],
     "prompt_number": 603
    },
    {
     "cell_type": "heading",
     "level": 3,
     "metadata": {},
     "source": [
      "Get county codes and print names"
     ]
    },
    {
     "cell_type": "markdown",
     "metadata": {},
     "source": [
      "Use Pycountry to associate the ISO abbreviations that NGINX provides with actual country names. This should be run first before most of the cells above."
     ]
    },
    {
     "cell_type": "code",
     "collapsed": false,
     "input": [
      "import pycountry\n",
      "cc={}\n",
      "t = list(pycountry.countries)\n",
      "for country in t:\n",
      "    cc[country.alpha2.lower()]=country.name\n",
      "    \n",
      "print cc\n",
      "cc[\"eu\"] = \"??\""
     ],
     "language": "python",
     "metadata": {},
     "outputs": [
      {
       "output_type": "stream",
       "stream": "stdout",
       "text": [
        "{u'gw': u'Guinea-Bissau', u'gu': u'Guam', u'gt': u'Guatemala', u'gs': u'South Georgia and the South Sandwich Islands', u'gr': u'Greece', u'gq': u'Equatorial Guinea', u'gp': u'Guadeloupe', u'gy': u'Guyana', u'gg': u'Guernsey', u'gf': u'French Guiana', u'ge': u'Georgia', u'gd': u'Grenada', u'gb': u'United Kingdom', u'ga': u'Gabon', u'gn': u'Guinea', u'gm': u'Gambia', u'gl': u'Greenland', u'gi': u'Gibraltar', u'gh': u'Ghana', u'lb': u'Lebanon', u'lc': u'Saint Lucia', u'la': u\"Lao People's Democratic Republic\", u'tv': u'Tuvalu', u'tw': u'Taiwan, Province of China', u'tt': u'Trinidad and Tobago', u'tr': u'Turkey', u'lk': u'Sri Lanka', u'li': u'Liechtenstein', u'lv': u'Latvia', u'to': u'Tonga', u'lt': u'Lithuania', u'lu': u'Luxembourg', u'lr': u'Liberia', u'ls': u'Lesotho', u'th': u'Thailand', u'tf': u'French Southern Territories', u'tg': u'Togo', u'td': u'Chad', u'tc': u'Turks and Caicos Islands', u'ly': u'Libya', u'do': u'Dominican Republic', u'dm': u'Dominica', u'dj': u'Djibouti', u'dk': u'Denmark', u'um': u'United States Minor Outlying Islands', u'de': u'Germany', u'ye': u'Yemen', u'dz': u'Algeria', u'uy': u'Uruguay', u'yt': u'Mayotte', u'vu': u'Vanuatu', u'qa': u'Qatar', u'tm': u'Turkmenistan', u'eh': u'Western Sahara', u'wf': u'Wallis and Futuna', u'ee': u'Estonia', u'eg': u'Egypt', u'za': u'South Africa', u'ec': u'Ecuador', u'sj': u'Svalbard and Jan Mayen', u'us': u'United States', u'et': u'Ethiopia', u'zw': u'Zimbabwe', u'es': u'Spain', u'er': u'Eritrea', u'ru': u'Russian Federation', u'rw': u'Rwanda', u'rs': u'Serbia', u're': u'R\\xe9union', u'it': u'Italy', u'ro': u'Romania', u'tk': u'Tokelau', u'tz': u'Tanzania, United Republic of', u'bd': u'Bangladesh', u'be': u'Belgium', u'bf': u'Burkina Faso', u'bg': u'Bulgaria', u'vg': u'Virgin Islands, British', u'ba': u'Bosnia and Herzegovina', u'bb': u'Barbados', u'bl': u'Saint Barth\\xe9lemy', u'bm': u'Bermuda', u'bn': u'Brunei Darussalam', u'bo': u'Bolivia, Plurinational State of', u'bh': u'Bahrain', u'bi': u'Burundi', u'bj': u'Benin', u'bt': u'Bhutan', u'jm': u'Jamaica', u'bv': u'Bouvet Island', u'bw': u'Botswana', u'ws': u'Samoa', u'bq': u'Bonaire, Sint Eustatius and Saba', u'br': u'Brazil', u'bs': u'Bahamas', u'je': u'Jersey', u'by': u'Belarus', u'bz': u'Belize', u'tn': u'Tunisia', u'om': u'Oman', u'zm': u'Zambia', u'ua': u'Ukraine', u'jo': u'Jordan', u'mz': u'Mozambique', u'ck': u'Cook Islands', u'ci': u\"C\\xf4te d'Ivoire\", u'ch': u'Switzerland', u'co': u'Colombia', u'cn': u'China', u'cm': u'Cameroon', u'cl': u'Chile', u'cc': u'Cocos (Keeling) Islands', u'ca': u'Canada', u'cg': u'Congo', u'cf': u'Central African Republic', u'cd': u'Congo, The Democratic Republic of the', u'cz': u'Czech Republic', u'cy': u'Cyprus', u'cx': u'Christmas Island', u'cr': u'Costa Rica', u'cw': u'Cura\\xe7ao', u'cv': u'Cape Verde', u'cu': u'Cuba', u've': u'Venezuela, Bolivarian Republic of', u'pr': u'Puerto Rico', u'ps': u'Palestine, State of', u'sa': u'Saudi Arabia', u'pw': u'Palau', u'pt': u'Portugal', u'py': u'Paraguay', u'tl': u'Timor-Leste', u'iq': u'Iraq', u'pa': u'Panama', u'pf': u'French Polynesia', u'pg': u'Papua New Guinea', u'pe': u'Peru', u'pk': u'Pakistan', u'ph': u'Philippines', u'pn': u'Pitcairn', u'pl': u'Poland', u'pm': u'Saint Pierre and Miquelon', u'hr': u'Croatia', u'ht': u'Haiti', u'hu': u'Hungary', u'hk': u'Hong Kong', u'hn': u'Honduras', u'vn': u'Viet Nam', u'hm': u'Heard Island and McDonald Islands', u'jp': u'Japan', u'me': u'Montenegro', u'md': u'Moldova, Republic of', u'mg': u'Madagascar', u'mf': u'Saint Martin (French part)', u'ma': u'Morocco', u'mc': u'Monaco', u'uz': u'Uzbekistan', u'mm': u'Myanmar', u'ml': u'Mali', u'mo': u'Macao', u'mn': u'Mongolia', u'mh': u'Marshall Islands', u'mk': u'Macedonia, Republic of', u'mu': u'Mauritius', u'mt': u'Malta', u'mw': u'Malawi', u'mv': u'Maldives', u'mq': u'Martinique', u'mp': u'Northern Mariana Islands', u'ms': u'Montserrat', u'mr': u'Mauritania', u'im': u'Isle of Man', u'ug': u'Uganda', u'my': u'Malaysia', u'mx': u'Mexico', u'il': u'Israel', u'va': u'Holy See (Vatican City State)', u'vc': u'Saint Vincent and the Grenadines', u'ae': u'United Arab Emirates', u'ad': u'Andorra', u'ag': u'Antigua and Barbuda', u'af': u'Afghanistan', u'ai': u'Anguilla', u'vi': u'Virgin Islands, U.S.', u'is': u'Iceland', u'ir': u'Iran, Islamic Republic of', u'am': u'Armenia', u'al': u'Albania', u'ao': u'Angola', u'kn': u'Saint Kitts and Nevis', u'aq': u'Antarctica', u'as': u'American Samoa', u'ar': u'Argentina', u'au': u'Australia', u'at': u'Austria', u'aw': u'Aruba', u'in': u'India', u'ax': u'\\xc5land Islands', u'az': u'Azerbaijan', u'ie': u'Ireland', u'id': u'Indonesia', u'ni': u'Nicaragua', u'nl': u'Netherlands', u'no': u'Norway', u'na': u'Namibia', u'nc': u'New Caledonia', u'ne': u'Niger', u'nf': u'Norfolk Island', u'ng': u'Nigeria', u'nz': u'New Zealand', u'sh': u'Saint Helena, Ascension and Tristan da Cunha', u'np': u'Nepal', u'so': u'Somalia', u'nr': u'Nauru', u'nu': u'Niue', u'fr': u'France', u'io': u'British Indian Ocean Territory', u'sb': u'Solomon Islands', u'fi': u'Finland', u'fj': u'Fiji', u'fk': u'Falkland Islands (Malvinas)', u'fm': u'Micronesia, Federated States of', u'fo': u'Faroe Islands', u'tj': u'Tajikistan', u'sz': u'Swaziland', u'sy': u'Syrian Arab Republic', u'sx': u'Sint Maarten (Dutch part)', u'kg': u'Kyrgyzstan', u'ke': u'Kenya', u'ss': u'South Sudan', u'sr': u'Suriname', u'ki': u'Kiribati', u'kh': u'Cambodia', u'sv': u'El Salvador', u'km': u'Comoros', u'st': u'Sao Tome and Principe', u'sk': u'Slovakia', u'kr': u'Korea, Republic of', u'si': u'Slovenia', u'kp': u\"Korea, Democratic People's Republic of\", u'kw': u'Kuwait', u'sn': u'Senegal', u'sm': u'San Marino', u'sl': u'Sierra Leone', u'sc': u'Seychelles', u'kz': u'Kazakhstan', u'ky': u'Cayman Islands', u'sg': u'Singapore', u'se': u'Sweden', u'sd': u'Sudan'}\n"
       ]
      }
     ],
     "prompt_number": 478
    },
    {
     "cell_type": "code",
     "collapsed": false,
     "input": [],
     "language": "python",
     "metadata": {},
     "outputs": []
    }
   ],
   "metadata": {}
  }
 ]
}